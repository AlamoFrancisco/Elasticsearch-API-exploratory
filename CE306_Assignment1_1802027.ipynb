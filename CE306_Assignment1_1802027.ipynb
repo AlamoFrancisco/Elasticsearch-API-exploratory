{
 "cells": [
  {
   "cell_type": "markdown",
   "id": "9d3733bf-2064-4338-bed3-12a83549fd63",
   "metadata": {
    "tags": []
   },
   "source": [
    "# Elasticsearch_API_Exploration"
   ]
  },
  {
   "cell_type": "code",
   "execution_count": 371,
   "id": "95c00170-e85a-4564-928e-24a85093c65a",
   "metadata": {},
   "outputs": [],
   "source": [
    "import csv\n",
    "import pandas as pd\n",
    "from elasticsearch import Elasticsearch, helpers\n",
    "!pip install elasticsearch==7.16.3"
   ]
  },
  {
   "cell_type": "markdown",
   "id": "18496f14-5cd9-458a-981b-ab1dcf51c2de",
   "metadata": {},
   "source": [
    "#### Start Elasticsearch"
   ]
  },
  {
   "cell_type": "code",
   "execution_count": 372,
   "id": "9a5bca79-c86f-4746-ab25-6a98ca85c4fe",
   "metadata": {},
   "outputs": [],
   "source": [
    "es = Elasticsearch(\"http://localhost:9200\")"
   ]
  },
  {
   "cell_type": "code",
   "execution_count": 373,
   "id": "85112b17-405d-4018-ba02-b62ee99f58a3",
   "metadata": {
    "tags": []
   },
   "outputs": [
    {
     "name": "stdout",
     "output_type": "stream",
     "text": [
      "{'name': 'LAPTOP-ND6VT9QJ', 'cluster_name': 'elasticsearch', 'cluster_uuid': 'Ok320e_TRaO2lgcnSCf5MQ', 'version': {'number': '7.16.3', 'build_flavor': 'default', 'build_type': 'zip', 'build_hash': '4e6e4eab2297e949ec994e688dad46290d018022', 'build_date': '2022-01-06T23:43:02.825887787Z', 'build_snapshot': False, 'lucene_version': '8.10.1', 'minimum_wire_compatibility_version': '6.8.0', 'minimum_index_compatibility_version': '6.0.0-beta1'}, 'tagline': 'You Know, for Search'}\n"
     ]
    }
   ],
   "source": [
    "print(es.info())"
   ]
  },
  {
   "cell_type": "markdown",
   "id": "dd0c5334-13bc-40f0-b9cc-a86b6d0f18ee",
   "metadata": {},
   "source": [
    "#### Import dataset and creation of samples"
   ]
  },
  {
   "cell_type": "code",
   "execution_count": 374,
   "id": "88bd0a28-9761-4581-9a99-1f1daae0dc65",
   "metadata": {},
   "outputs": [],
   "source": [
    "wiki_movies =  pd.read_csv(\"wiki_movie_plots_deduped.csv\")"
   ]
  },
  {
   "cell_type": "code",
   "execution_count": 375,
   "id": "df7d1e2f-1a3b-4fdb-871f-3ed238a14404",
   "metadata": {},
   "outputs": [],
   "source": [
    "sample_movies = wiki_movies[:1000]"
   ]
  },
  {
   "cell_type": "code",
   "execution_count": 376,
   "id": "cbcf99b5-ddb9-48c6-9bcd-fd78ab656781",
   "metadata": {
    "tags": []
   },
   "outputs": [],
   "source": [
    "sample_movies.to_csv(\"sample_movies.csv\")"
   ]
  },
  {
   "cell_type": "markdown",
   "id": "d52875dd-16dd-4f75-8afc-b4d9842762dc",
   "metadata": {},
   "source": [
    "#### Drop missing values"
   ]
  },
  {
   "cell_type": "code",
   "execution_count": 380,
   "id": "e2a45409-45dd-41bb-a9a2-dc2f737ff613",
   "metadata": {},
   "outputs": [],
   "source": [
    "sample_updated = sample_movies.dropna()"
   ]
  },
  {
   "cell_type": "code",
   "execution_count": 382,
   "id": "dc3d0ac0-c032-4a5c-8846-007c774dc788",
   "metadata": {
    "collapsed": true,
    "jupyter": {
     "outputs_hidden": true
    },
    "tags": []
   },
   "outputs": [
    {
     "data": {
      "text/plain": [
       "<bound method DataFrame.isna of      Release Year                            Title Origin/Ethnicity  \\\n",
       "5            1903              Alice in Wonderland         American   \n",
       "13           1907                     Daniel Boone         American   \n",
       "14           1907  How Brown Saw the Baseball Game         American   \n",
       "15           1907                     Laughing Gas         American   \n",
       "16           1908         The Adventures of Dollie         American   \n",
       "..            ...                              ...              ...   \n",
       "995          1930                   Playing Around         American   \n",
       "996          1930                          Raffles         American   \n",
       "997          1930            Reaching for the Moon         American   \n",
       "998          1930                  Recaptured Love         American   \n",
       "999          1930                      River's End         American   \n",
       "\n",
       "                                    Director  \\\n",
       "5                             Cecil Hepworth   \n",
       "13   Wallace McCutcheon and Ediwin S. Porter   \n",
       "14                                   Unknown   \n",
       "15                      Edwin Stanton Porter   \n",
       "16                            D. W. Griffith   \n",
       "..                                       ...   \n",
       "995                             Mervyn LeRoy   \n",
       "996                       George Fitzmaurice   \n",
       "997                          Edmund Goulding   \n",
       "998                           John G. Adolfi   \n",
       "999                           Michael Curtiz   \n",
       "\n",
       "                                                  Cast         Genre  \\\n",
       "5                                            May Clark       unknown   \n",
       "13                   William Craven, Florence Lawrence  biographical   \n",
       "14                                             Unknown        comedy   \n",
       "15                     Bertha Regustus, Edward Boulden        comedy   \n",
       "16                   Arthur V. Johnson, Linda Arvidson         drama   \n",
       "..                                                 ...           ...   \n",
       "995                        Alice White, Chester Morris         drama   \n",
       "996                         Ronald Colman, Kay Francis       mystery   \n",
       "997  Douglas Fairbanks, Edward Everett Horton, Bing...       musical   \n",
       "998                     Belle Bennett, Dorothy Burgess       musical   \n",
       "999                     Charles Bickford, Evalyn Knapp         drama   \n",
       "\n",
       "                                             Wiki Page  \\\n",
       "5    https://en.wikipedia.org/wiki/Alice_in_Wonderl...   \n",
       "13   https://en.wikipedia.org/wiki/Daniel_Boone_(19...   \n",
       "14   https://en.wikipedia.org/wiki/How_Brown_Saw_th...   \n",
       "15   https://en.wikipedia.org/wiki/Laughing_Gas_(fi...   \n",
       "16   https://en.wikipedia.org/wiki/The_Adventures_o...   \n",
       "..                                                 ...   \n",
       "995       https://en.wikipedia.org/wiki/Playing_Around   \n",
       "996  https://en.wikipedia.org/wiki/Raffles_(1930_film)   \n",
       "997  https://en.wikipedia.org/wiki/Reaching_for_the...   \n",
       "998      https://en.wikipedia.org/wiki/Recaptured_Love   \n",
       "999  https://en.wikipedia.org/wiki/River%27s_End_(1...   \n",
       "\n",
       "                                                  Plot  \n",
       "5    Alice follows a large white rabbit down a \"Rab...  \n",
       "13   Boone's daughter befriends an Indian maiden as...  \n",
       "14   Before heading out to a baseball game at a nea...  \n",
       "15   The plot is that of a black woman going to the...  \n",
       "16   On a beautiful summer day a father and mother ...  \n",
       "..                                                 ...  \n",
       "995  Alice White plays the part of a working class ...  \n",
       "996  Gentleman jewel thief A.J. Raffles (Ronald Col...  \n",
       "997  Wall Street wizard, Larry Day, new to the ways...  \n",
       "998  In this drama, a 50-year-old married man (play...  \n",
       "999  In remote northern Canada, Sergeant Conniston ...  \n",
       "\n",
       "[980 rows x 8 columns]>"
      ]
     },
     "execution_count": 382,
     "metadata": {},
     "output_type": "execute_result"
    }
   ],
   "source": [
    "sample_updated.isna"
   ]
  },
  {
   "cell_type": "markdown",
   "id": "b177dd3e-719d-4314-8c58-1fd82c77db79",
   "metadata": {},
   "source": [
    "#### Transform the dataset into JSON"
   ]
  },
  {
   "cell_type": "code",
   "execution_count": 384,
   "id": "22b5b35c-b5c6-4f11-a731-11b26dda3f5c",
   "metadata": {
    "tags": []
   },
   "outputs": [
    {
     "data": {
      "text/plain": [
       "{'Release Year': 1903,\n",
       " 'Title': 'Alice in Wonderland',\n",
       " 'Origin/Ethnicity': 'American',\n",
       " 'Director': 'Cecil Hepworth',\n",
       " 'Cast': 'May Clark',\n",
       " 'Genre': 'unknown',\n",
       " 'Wiki Page': 'https://en.wikipedia.org/wiki/Alice_in_Wonderland_(1903_film)',\n",
       " 'Plot': 'Alice follows a large white rabbit down a \"Rabbit-hole\". She finds a tiny door. When she finds a bottle labeled \"Drink me\", she does, and shrinks, but not enough to pass through the door. She then eats something labeled \"Eat me\" and grows larger. She finds a fan when enables her to shrink enough to get into the \"Garden\" and try to get a \"Dog\" to play with her. She enters the \"White Rabbit\\'s tiny House,\" but suddenly resumes her normal size. In order to get out, she has to use the \"magic fan.\"\\r\\nShe enters a kitchen, in which there is a cook and a woman holding a baby. She persuades the woman to give her the child and takes the infant outside after the cook starts throwing things around. The baby then turns into a pig and squirms out of her grip. \"The Duchess\\'s Cheshire Cat\" appears and disappears a couple of times to Alice and directs her to the Mad Hatter\\'s \"Mad Tea-Party.\" After a while, she leaves.\\r\\nThe Queen invites Alice to join the \"ROYAL PROCESSION\": a parade of marching playing cards and others headed by the White Rabbit. When Alice \"unintentionally offends the Queen\", the latter summons the \"Executioner\". Alice \"boxes the ears\", then flees when all the playing cards come for her. Then she wakes up and realizes it was all a dream.'}"
      ]
     },
     "execution_count": 384,
     "metadata": {},
     "output_type": "execute_result"
    }
   ],
   "source": [
    "import json\n",
    "\n",
    "json_str = sample_updated.to_json(orient='records')\n",
    "\n",
    "json_wiki_movies = json.loads(json_str)\n",
    "json_wiki_movies[0]"
   ]
  },
  {
   "cell_type": "markdown",
   "id": "87d4760a-9846-4925-b3f1-3b6f72725f51",
   "metadata": {},
   "source": [
    "---\n",
    "\n",
    "#### Body"
   ]
  },
  {
   "cell_type": "code",
   "execution_count": 429,
   "id": "350e3740-18f4-4d53-a36a-87f5876cdff4",
   "metadata": {
    "tags": []
   },
   "outputs": [],
   "source": [
    "body= {\n",
    "    \"settings\":{\n",
    "        \"analysis\":{\n",
    "            \"analyzer\":{\n",
    "                \"my_new_analyzer\":{\n",
    "                    \"type\": \"custom\",\n",
    "                    \"tokenizer\":\"my_tokenizer\",\n",
    "                    \"char_filter\": [\"my_char_filter\"],\n",
    "                    \"filter\":[\"lowercase\",\"english_stop\",\"truncate\",\"word_delimiter_graph\"],\n",
    "                }\n",
    "\n",
    "            },\n",
    "            \"char_filter\":{\n",
    "                \"my_char_filter\":{\n",
    "                    \"type\": \"html_strip\"\n",
    "                }\n",
    "            },\"filter\": {\n",
    "                \"english_stop\": { \n",
    "                    \"type\": \"stop\",\n",
    "                    \"stopwords\": \"_english_\"\n",
    "                }\n",
    "            },\n",
    "            \"tokenizer\":{\n",
    "                \"my_tokenizer\":{\n",
    "                    \"type\": \"edge_ngram\",\n",
    "                    \"min_gram\":2,\n",
    "                    \"max_gram\":10,\n",
    "                    \"token_chars\":[\"letter\",\"digit\"]\n",
    "                }\n",
    "            }\n",
    "        }\n",
    "    },\"mappings\":{\n",
    "                \"_doc\":{\n",
    "                    \"properties\":{\n",
    "                        \"Plot\":{\n",
    "                            \"type\":\"text\",\n",
    "                            \"similarity\": \"BM25\",\n",
    "                            \"analyzer\":\"my_new_analyzer\"\n",
    "                        },\n",
    "                        \"Title\":{\n",
    "                            \"type\":\"text\",\n",
    "                            \"similarity\": \"BM25\",\n",
    "                            \"analyzer\":\"my_new_analyzer\"\n",
    "                        },\n",
    "                        \"Wiki Page\":{\n",
    "                            \"type\":\"text\",\n",
    "                            \"similarity\": \"BM25\",\n",
    "                            \"analyzer\":\"my_new_analyzer\"\n",
    "                        },\n",
    "                        \"Director\":{\n",
    "                            \"type\":\"text\",\n",
    "                            \"similarity\": \"BM25\",\n",
    "                            \"analyzer\":\"my_new_analyzer\"\n",
    "                        },\n",
    "                        \"Cast\":{\n",
    "                            \"type\":\"text\",\n",
    "                            \"analyzer\": \"my_new_analyzer\",\n",
    "                            \"similarity\": \"BM25\",\n",
    "                        }\n",
    "                    }\n",
    "                }\n",
    "    }\n",
    "}"
   ]
  },
  {
   "cell_type": "markdown",
   "id": "350e0c67-b936-423c-a5f7-33f1342e7b28",
   "metadata": {},
   "source": [
    "#### Create Index of the Body"
   ]
  },
  {
   "cell_type": "code",
   "execution_count": 425,
   "id": "fcbcafff-4e71-4dcd-bcb3-3b0201a97020",
   "metadata": {},
   "outputs": [
    {
     "name": "stderr",
     "output_type": "stream",
     "text": [
      "C:\\Users\\alamo\\AppData\\Local\\Temp/ipykernel_13296/2206302394.py:1: DeprecationWarning: The 'body' parameter is deprecated for the 'create' API and will be removed in a future version. Instead use API parameters directly. See https://github.com/elastic/elasticsearch-py/issues/1698 for more information\n",
      "  es.indices.create(index = \"salir3\", body=body, include_type_name=True)\n"
     ]
    },
    {
     "data": {
      "text/plain": [
       "{'acknowledged': True, 'shards_acknowledged': True, 'index': 'salir3'}"
      ]
     },
     "execution_count": 425,
     "metadata": {},
     "output_type": "execute_result"
    }
   ],
   "source": [
    "es.indices.create(index = \"wikipedia_movies\", body=body, include_type_name=True)"
   ]
  },
  {
   "cell_type": "markdown",
   "id": "d7a319c6-f606-424b-b32b-e0d19be16beb",
   "metadata": {},
   "source": [
    "#### Import the dataset and assign the body "
   ]
  },
  {
   "cell_type": "code",
   "execution_count": 426,
   "id": "078615f1-ab0f-4ff9-a64b-2ecb40794f85",
   "metadata": {
    "collapsed": true,
    "jupyter": {
     "outputs_hidden": true
    },
    "tags": []
   },
   "outputs": [
    {
     "data": {
      "text/plain": [
       "(980, [])"
      ]
     },
     "execution_count": 426,
     "metadata": {},
     "output_type": "execute_result"
    }
   ],
   "source": [
    "helpers.bulk(es,json_wiki_movies, index=\"wikipedia_movies\")"
   ]
  },
  {
   "cell_type": "code",
   "execution_count": 427,
   "id": "e64b4331-10ff-4ade-b3cf-6bc937e018bf",
   "metadata": {
    "collapsed": true,
    "jupyter": {
     "outputs_hidden": true
    },
    "tags": []
   },
   "outputs": [
    {
     "data": {
      "text/plain": [
       "{'salir3': {'mappings': {'properties': {'Cast': {'type': 'text',\n",
       "     'analyzer': 'my_new_analyzer',\n",
       "     'similarity': 'BM25'},\n",
       "    'Directo': {'type': 'text',\n",
       "     'analyzer': 'my_new_analyzer',\n",
       "     'similarity': 'BM25'},\n",
       "    'Director': {'type': 'text',\n",
       "     'fields': {'keyword': {'type': 'keyword', 'ignore_above': 256}}},\n",
       "    'Genre': {'type': 'text',\n",
       "     'fields': {'keyword': {'type': 'keyword', 'ignore_above': 256}}},\n",
       "    'Origin/Ethnicity': {'type': 'text',\n",
       "     'fields': {'keyword': {'type': 'keyword', 'ignore_above': 256}}},\n",
       "    'Plot': {'type': 'text',\n",
       "     'analyzer': 'my_new_analyzer',\n",
       "     'similarity': 'BM25'},\n",
       "    'Release Year': {'type': 'long'},\n",
       "    'Title': {'type': 'text',\n",
       "     'analyzer': 'my_new_analyzer',\n",
       "     'similarity': 'BM25'},\n",
       "    'Wiki Page': {'type': 'text',\n",
       "     'analyzer': 'my_new_analyzer',\n",
       "     'similarity': 'BM25'}}}}}"
      ]
     },
     "execution_count": 427,
     "metadata": {},
     "output_type": "execute_result"
    }
   ],
   "source": [
    "es.indices.get_mapping(index = \"wikipedia_movies\")"
   ]
  },
  {
   "cell_type": "code",
   "execution_count": 428,
   "id": "d54684a6-badd-491a-9e0c-16895ed8a288",
   "metadata": {
    "collapsed": true,
    "jupyter": {
     "outputs_hidden": true
    },
    "tags": []
   },
   "outputs": [
    {
     "data": {
      "text/plain": [
       "{'took': 6,\n",
       " 'timed_out': False,\n",
       " '_shards': {'total': 1, 'successful': 1, 'skipped': 0, 'failed': 0},\n",
       " 'hits': {'total': {'value': 980, 'relation': 'eq'},\n",
       "  'max_score': 1.0,\n",
       "  'hits': [{'_index': 'salir3',\n",
       "    '_type': '_doc',\n",
       "    '_id': 'Oo7rUX8B08L66tnuIjBZ',\n",
       "    '_score': 1.0,\n",
       "    '_source': {'Release Year': 1903,\n",
       "     'Title': 'Alice in Wonderland',\n",
       "     'Origin/Ethnicity': 'American',\n",
       "     'Director': 'Cecil Hepworth',\n",
       "     'Cast': 'May Clark',\n",
       "     'Genre': 'unknown',\n",
       "     'Wiki Page': 'https://en.wikipedia.org/wiki/Alice_in_Wonderland_(1903_film)',\n",
       "     'Plot': 'Alice follows a large white rabbit down a \"Rabbit-hole\". She finds a tiny door. When she finds a bottle labeled \"Drink me\", she does, and shrinks, but not enough to pass through the door. She then eats something labeled \"Eat me\" and grows larger. She finds a fan when enables her to shrink enough to get into the \"Garden\" and try to get a \"Dog\" to play with her. She enters the \"White Rabbit\\'s tiny House,\" but suddenly resumes her normal size. In order to get out, she has to use the \"magic fan.\"\\r\\nShe enters a kitchen, in which there is a cook and a woman holding a baby. She persuades the woman to give her the child and takes the infant outside after the cook starts throwing things around. The baby then turns into a pig and squirms out of her grip. \"The Duchess\\'s Cheshire Cat\" appears and disappears a couple of times to Alice and directs her to the Mad Hatter\\'s \"Mad Tea-Party.\" After a while, she leaves.\\r\\nThe Queen invites Alice to join the \"ROYAL PROCESSION\": a parade of marching playing cards and others headed by the White Rabbit. When Alice \"unintentionally offends the Queen\", the latter summons the \"Executioner\". Alice \"boxes the ears\", then flees when all the playing cards come for her. Then she wakes up and realizes it was all a dream.'}},\n",
       "   {'_index': 'salir3',\n",
       "    '_type': '_doc',\n",
       "    '_id': 'O47rUX8B08L66tnuIjBZ',\n",
       "    '_score': 1.0,\n",
       "    '_source': {'Release Year': 1907,\n",
       "     'Title': 'Daniel Boone',\n",
       "     'Origin/Ethnicity': 'American',\n",
       "     'Director': 'Wallace McCutcheon and Ediwin S. Porter',\n",
       "     'Cast': 'William Craven, Florence Lawrence',\n",
       "     'Genre': 'biographical',\n",
       "     'Wiki Page': 'https://en.wikipedia.org/wiki/Daniel_Boone_(1907_film)',\n",
       "     'Plot': \"Boone's daughter befriends an Indian maiden as Boone and his companion start out on a hunting expedition. While he is away, Boone's cabin is attacked by the Indians, who set it on fire and abduct Boone's daughter. Boone returns, swears vengeance, then heads out on the trail to the Indian camp. His daughter escapes but is chased. The Indians encounter Boone, which sets off a huge fight on the edge of a cliff. A burning arrow gets shot into the Indian camp. Boone gets tied to the stake and tortured. The burning arrow sets the Indian camp on fire, causing panic. Boone is rescued by his horse, and Boone has a knife fight in which he kills the Indian chief.[2]\"}},\n",
       "   {'_index': 'salir3',\n",
       "    '_type': '_doc',\n",
       "    '_id': 'PI7rUX8B08L66tnuIjBZ',\n",
       "    '_score': 1.0,\n",
       "    '_source': {'Release Year': 1907,\n",
       "     'Title': 'How Brown Saw the Baseball Game',\n",
       "     'Origin/Ethnicity': 'American',\n",
       "     'Director': 'Unknown',\n",
       "     'Cast': 'Unknown',\n",
       "     'Genre': 'comedy',\n",
       "     'Wiki Page': 'https://en.wikipedia.org/wiki/How_Brown_Saw_the_Baseball_Game',\n",
       "     'Plot': \"Before heading out to a baseball game at a nearby ballpark, sports fan Mr. Brown drinks several highball cocktails. He arrives at the ballpark to watch the game, but has become so inebriated that the game appears to him in reverse, with the players running the bases backwards and the baseball flying back into the pitcher's hand. After the game is over, Mr. Brown is escorted home by one of his friends. When they arrive at Brown's house, they encounter his wife who becomes furious with the friend and proceeds to physically assault him, believing he is responsible for her husband's severe intoxication.[1]\"}},\n",
       "   {'_index': 'salir3',\n",
       "    '_type': '_doc',\n",
       "    '_id': 'PY7rUX8B08L66tnuIjBZ',\n",
       "    '_score': 1.0,\n",
       "    '_source': {'Release Year': 1907,\n",
       "     'Title': 'Laughing Gas',\n",
       "     'Origin/Ethnicity': 'American',\n",
       "     'Director': 'Edwin Stanton Porter',\n",
       "     'Cast': 'Bertha Regustus, Edward Boulden',\n",
       "     'Genre': 'comedy',\n",
       "     'Wiki Page': 'https://en.wikipedia.org/wiki/Laughing_Gas_(film)#1907_Film',\n",
       "     'Plot': 'The plot is that of a black woman going to the dentist for a toothache and being given laughing gas. On her way walking home, and in other situations, she can\\'t stop laughing, and everyone she meets \"catches\" the laughter from her, including a vendor and police officers.'}},\n",
       "   {'_index': 'salir3',\n",
       "    '_type': '_doc',\n",
       "    '_id': 'Po7rUX8B08L66tnuIjBZ',\n",
       "    '_score': 1.0,\n",
       "    '_source': {'Release Year': 1908,\n",
       "     'Title': 'The Adventures of Dollie',\n",
       "     'Origin/Ethnicity': 'American',\n",
       "     'Director': 'D. W. Griffith',\n",
       "     'Cast': 'Arthur V. Johnson, Linda Arvidson',\n",
       "     'Genre': 'drama',\n",
       "     'Wiki Page': 'https://en.wikipedia.org/wiki/The_Adventures_of_Dollie',\n",
       "     'Plot': \"On a beautiful summer day a father and mother take their daughter Dollie on an outing to the river. The mother refuses to buy a gypsy's wares. The gypsy tries to rob the mother, but the father drives him off. The gypsy returns to the camp and devises a plan. They return and kidnap Dollie while her parents are distracted. A rescue crew is organized, but the gypsy takes Dollie to his camp. They gag Dollie and hide her in a barrel before the rescue party gets to the camp. Once they leave the gypsies and escapes in their wagon. As the wagon crosses the river, the barrel falls into the water. Still sealed in the barrel, Dollie is swept downstream in dangerous currents. A boy who is fishing in the river finds the barrel, and Dollie is reunited safely with her parents.\"}},\n",
       "   {'_index': 'salir3',\n",
       "    '_type': '_doc',\n",
       "    '_id': 'P47rUX8B08L66tnuIjBZ',\n",
       "    '_score': 1.0,\n",
       "    '_source': {'Release Year': 1908,\n",
       "     'Title': 'The Black Viper',\n",
       "     'Origin/Ethnicity': 'American',\n",
       "     'Director': 'D. W. Griffith',\n",
       "     'Cast': 'D. W. Griffith',\n",
       "     'Genre': 'drama',\n",
       "     'Wiki Page': 'https://en.wikipedia.org/wiki/The_Black_Viper',\n",
       "     'Plot': \"A thug accosts a girl as she leaves her workplace but a man rescues her. The thug vows revenge and, with the help of two friends, attacks the girl and her rescuer again as they're going for a walk. This time they succeed in kidnapping the rescuer. He is bound and gagged and taken away in a cart. The girl runs home and gets help from several neighbors. They track the ruffians down to a cabin in the mountains where the gang has trapped their victim and set the cabin on fire. A thug and Rescuer fight on the roof of the house.\"}},\n",
       "   {'_index': 'salir3',\n",
       "    '_type': '_doc',\n",
       "    '_id': 'QI7rUX8B08L66tnuIjBZ',\n",
       "    '_score': 1.0,\n",
       "    '_source': {'Release Year': 1908,\n",
       "     'Title': 'A Calamitous Elopement',\n",
       "     'Origin/Ethnicity': 'American',\n",
       "     'Director': 'D.W. Griffith',\n",
       "     'Cast': 'Harry Solter, Linda Arvidson',\n",
       "     'Genre': 'comedy',\n",
       "     'Wiki Page': 'https://en.wikipedia.org/wiki/A_Calamitous_Elopement',\n",
       "     'Plot': \"A young couple decides to elope after being caught in the midst of a romantic moment by the woman's angry father. They make plans to leave, but a thief discovers their plans and hides in their trunk and waits for the right moment to steal their belongings.\"}},\n",
       "   {'_index': 'salir3',\n",
       "    '_type': '_doc',\n",
       "    '_id': 'QY7rUX8B08L66tnuIjBZ',\n",
       "    '_score': 1.0,\n",
       "    '_source': {'Release Year': 1908,\n",
       "     'Title': 'The Call of the Wild',\n",
       "     'Origin/Ethnicity': 'American',\n",
       "     'Director': 'D. W. Griffith',\n",
       "     'Cast': 'Charles Inslee',\n",
       "     'Genre': 'adventure',\n",
       "     'Wiki Page': 'https://en.wikipedia.org/wiki/The_Call_of_the_Wild_(1908_film)',\n",
       "     'Plot': 'A white girl (Florence Lawrence) rejects a proposal from an Indian brave (Charles Inslee) in this early one-reel Western melodrama. Despite the rejection, the Indian still comes to the girl\\'s defense when she is abducted by his warring tribe. In her first year in films, Florence Lawrence was already the most popular among the Biograph Company\\'s anonymous stock company players. By 1909, she was known the world over as \"The Biograph Girl.\"'}},\n",
       "   {'_index': 'salir3',\n",
       "    '_type': '_doc',\n",
       "    '_id': 'Qo7rUX8B08L66tnuIjBZ',\n",
       "    '_score': 1.0,\n",
       "    '_source': {'Release Year': 1908,\n",
       "     'Title': 'A Christmas Carol',\n",
       "     'Origin/Ethnicity': 'American',\n",
       "     'Director': 'Unknown',\n",
       "     'Cast': 'Tom Ricketts',\n",
       "     'Genre': 'drama',\n",
       "     'Wiki Page': 'https://en.wikipedia.org/wiki/A_Christmas_Carol_(1908_film)',\n",
       "     'Plot': \"No prints of the first American film adaptation of A Christmas Carol are known to exist,[1] but The Moving Picture World magazine provided a scene-by-scene description before the film's release.[2] Scrooge goes into his office and begins working. His nephew, along with three women who wish for Scrooge to donate enter. However, Scrooge dismisses them. On the night of Christmas Eve, his long-dead partner Jacob Marley comes as a ghost, warning him of a horrible fate if he does not change his ways. Scrooge meets three spirits that show Scrooge the real meaning of Christmas, along with his grave, the result of his parsimonious ways. The next morning, he wakes and realizes the error of his ways. Scrooge was then euphoric and generous for the rest of his life.\"}},\n",
       "   {'_index': 'salir3',\n",
       "    '_type': '_doc',\n",
       "    '_id': 'Q47rUX8B08L66tnuIjBZ',\n",
       "    '_score': 1.0,\n",
       "    '_source': {'Release Year': 1908,\n",
       "     'Title': 'The Fight for Freedom',\n",
       "     'Origin/Ethnicity': 'American',\n",
       "     'Director': 'D. W. Griffith',\n",
       "     'Cast': 'Florence Auer, John G. Adolfi',\n",
       "     'Genre': 'western',\n",
       "     'Wiki Page': 'https://en.wikipedia.org/wiki/The_Fight_for_Freedom',\n",
       "     'Plot': 'The film opens in a town on the Mexican border. A poker game is going on in the local saloon. One of the players cheats and is shot dead by another of the players, a Mexican named Pedro. In the uproar that follows Pedro is wounded as he escapes from the saloon. The sheriff is called, who tracks Pedro to his home but Pedro kills the sherriff too. While Pedro hides, his wife Juanita, is arrested on suspicion of murdering the sheriff. Pedro rescues her from the town jail and the two head for the Mexican border. Caught by the posse before they reach the border, Juanita is killed and the film ends with Pedro being arrested and taken back to town.'}}]}}"
      ]
     },
     "execution_count": 428,
     "metadata": {},
     "output_type": "execute_result"
    }
   ],
   "source": [
    "es.search(index='wikipedia_movies')"
   ]
  },
  {
   "cell_type": "markdown",
   "id": "79c44575-602f-4c8e-95e7-644c1fd0d807",
   "metadata": {},
   "source": [
    "---\n",
    "\n",
    "#### Queries\n",
    "\n",
    "If you want to apply the query please insert anything that you are looking in the dataset by replacing the query"
   ]
  },
  {
   "cell_type": "code",
   "execution_count": 431,
   "id": "8a37b2f3-5086-4574-bbca-09cf01258efc",
   "metadata": {},
   "outputs": [],
   "source": [
    "query1 = {\n",
    "  \"query\": {\n",
    "    \"bool\": {\n",
    "      \"must\": {\n",
    "        \"multi_match\":{\n",
    "           \"query\": \"ROCK\",\n",
    "            \"fields\": [\"Plot\"]\n",
    "        }\n",
    "      },\n",
    "      \"filter\": {\n",
    "        \"range\": {\n",
    "          \"Release Year\": {\n",
    "            \"to\": 1950\n",
    "          }\n",
    "        }\n",
    "      }\n",
    "    }\n",
    "  }, \"sort\": [\n",
    "    {\n",
    "      \"Genre.keyword\": {\n",
    "        \"order\": \"asc\"\n",
    "      }\n",
    "    }\n",
    "  ]\n",
    "}"
   ]
  },
  {
   "cell_type": "code",
   "execution_count": 119,
   "id": "cd2d63b4-34c5-4880-af08-a375f0340e92",
   "metadata": {},
   "outputs": [],
   "source": [
    "query2 ={\n",
    "  \"query\": {\n",
    "    \"bool\": {\n",
    "      \"must\": {\n",
    "        \"multi_match\": {\n",
    "          \"query\": \"whi\",\n",
    "          \"fields\": [\n",
    "            \"*Plot\",\n",
    "            \"Title^2\",\n",
    "            \"Cast^3\"\n",
    "          ]\n",
    "        }\n",
    "      }\n",
    "    }\n",
    "  }\n",
    "}"
   ]
  },
  {
   "cell_type": "markdown",
   "id": "e0d530c1-db08-474e-b84a-722c68e7c06b",
   "metadata": {},
   "source": [
    "---\n",
    "\n",
    "#### Analysis of the queries"
   ]
  },
  {
   "cell_type": "code",
   "execution_count": 432,
   "id": "5d157788-5f3d-49c0-801c-0456d6e4a322",
   "metadata": {
    "collapsed": true,
    "jupyter": {
     "outputs_hidden": true
    },
    "tags": []
   },
   "outputs": [
    {
     "name": "stderr",
     "output_type": "stream",
     "text": [
      "C:\\Users\\alamo\\AppData\\Local\\Temp/ipykernel_13296/3303515671.py:1: DeprecationWarning: The 'body' parameter is deprecated for the 'search' API and will be removed in a future version. Instead use API parameters directly. See https://github.com/elastic/elasticsearch-py/issues/1698 for more information\n",
      "  es.search(body=query1,index='salir3')\n"
     ]
    },
    {
     "data": {
      "text/plain": [
       "{'took': 2,\n",
       " 'timed_out': False,\n",
       " '_shards': {'total': 1, 'successful': 1, 'skipped': 0, 'failed': 0},\n",
       " 'hits': {'total': {'value': 430, 'relation': 'eq'},\n",
       "  'max_score': None,\n",
       "  'hits': [{'_index': 'salir3',\n",
       "    '_type': '_doc',\n",
       "    '_id': '247rUX8B08L66tnuIjBZ',\n",
       "    '_score': None,\n",
       "    '_source': {'Release Year': 1917,\n",
       "     'Title': 'A Modern Musketeer',\n",
       "     'Origin/Ethnicity': 'American',\n",
       "     'Director': 'Allan Dwan',\n",
       "     'Cast': 'Douglas Fairbanks, Marjorie Daw',\n",
       "     'Genre': 'adventure',\n",
       "     'Wiki Page': 'https://en.wikipedia.org/wiki/A_Modern_Musketeer',\n",
       "     'Plot': 'The film opens with a sequence in which D\\'Artagnan (Douglas Fairbanks) rides up to a tavern on horseback and ends up brawling with sword and fist with the patrons inside in his haste to approach a fair young stranger. After triumphing, he morphs into modern day Ned Thacker (also played by Fairbanks).\\r\\nNed is born and raised in Kansas by a mother who passes along to him her love of D\\'Artagnan and The Three Musketeers, despite his father\\'s concern that it is not good for him. In fact, Ned does get into trouble with his (sometimes unwanted) chivalrous attempts to help women. Finally, Ned can stand it no more; he decides to leave dull Kansas. In mirroring scenes, D\\'Artagnan is astride a somewhat less-than-noble steed, a present from his father for his departure from home, while Ned\\'s father gives him the modern equivalent: a car.\\r\\nWhile driving in the desert, he comes upon a chauffeur-driven automobile stopped because the road ahead has been washed away. Unimpressed with one passenger, the middle-aged Forrest Vandeteer (the \"richest man in Yonkers\"), Ned is quite taken with the lovely \"Park Avenue flapper\" Elsie Dodge. Her mother, the third passenger, sees her only daughter\\'s marriage to Vandeteer as the solution to their dire financial straits. Vandeteer buys what he wants, and he wants Elsie. She, however, loathes her suitor; she much prefers young Ned.\\r\\nNed comes up with the idea to put his car on railroad tracks. He takes the party (with Elsie in the front seat beside him) to their Grand Canyon resort hotel. There, Vandeteer tells Ned to stay away from the ladies. John Blabb, who works for \"Town Topics\", informs Ned that Vandeteer already has three wives hidden away somewhere.\\r\\nMeanwhile, Chin-de-dah, the Native American leader of an outlaw gang hiding in a tributary canyon, is bored. He decides to kidnap a white woman to be his wife (his last \"wife\" is shown to have committed suicide). He goes to the resort, pretending to be a guide, and selects Elsie as his target. Ned is suspicious, but Vandeteer hires him. Vandeteer and Elsie set out for a horse ride down the canyon with their guide. Ned uses the time to persuade Mrs. Dodge that her daughter\\'s happiness should take priority over their financial security.\\r\\nJames Brown, a member of the gang who knows and hates Vandeteer, gleefully tells Ned about the man\\'s impending demise and Chin-de-dah\\'s intentions toward Elsie. Ned shames him into helping with a rescue. They reach the camp in time to free Elsie and Vandeteer, but remain in peril. Vandeteer offers Ned $100,000 to save his life; Ned makes him put it in writing. Then they are lifted up the sheer cliff by a rope pulled by a horse. Once they are safe, Brown wants to kill Vandeteer, who falsely incriminated him in Vandeteer\\'s own scam and stole his wife and children. Vandeteer ends up clinging to the cliffside, kept from falling to his death only by Ned\\'s grip. Under Ned\\'s direction, he writes a note exonerating Brown. Ned persuades Brown to let Vandeteer live, and promises to split the reward with him. Once they are alone, Elsie kisses her rescuer.'},\n",
       "    'sort': ['adventure']},\n",
       "   {'_index': 'salir3',\n",
       "    '_type': '_doc',\n",
       "    '_id': '347rUX8B08L66tnuIjBZ',\n",
       "    '_score': None,\n",
       "    '_source': {'Release Year': 1917,\n",
       "     'Title': 'Reaching for the Moon',\n",
       "     'Origin/Ethnicity': 'American',\n",
       "     'Director': 'John Emerson',\n",
       "     'Cast': 'Douglas Fairbanks, Eileen Percy',\n",
       "     'Genre': 'adventure',\n",
       "     'Wiki Page': 'https://en.wikipedia.org/wiki/Reaching_for_the_Moon_(1917_film)',\n",
       "     'Plot': 'As described in a film magazine,[3] Alexis Caesar Napoleon Brown (Fairbanks) learns that his mother was a great princess from the European province of Vulgaria but became an outcast because she did not marry royal blood. Alexis believes that if one concentrates on one thing long enough, it will come true. He is continuously concentrating on the idea some day he will be king of Vulgaria. He tells his ambitions to the girl of his dreams (Percy), who is the \"patient listener.\" After one of his conferences with his patient sweetheart he goes home and dreams he is king of Vulgaria. On all sides his life is threatened by Black Boris (Campeau), who aspires to the throne. Arrangements are made for him to marry the Princess Valentina, but after one glance at her he is ready to run away. However, he is persuaded to remain and it becomes necessary for him to fight a duel with his rival Boris. Alexis, not knowing how to use a sword, puts up a poor fight and after a short struggle is sent flying down a steep precipice. It becomes steeper and steeper until Alexis awakens, having fallen out of bed. He is cured of his desires and is happy in his little home in New Jersey with his \"patient listener\" as Mrs. Alexis Caesar Napoleon Brown and a two-year old to pass his time with.'},\n",
       "    'sort': ['adventure']},\n",
       "   {'_index': 'salir3',\n",
       "    '_type': '_doc',\n",
       "    '_id': 'Go7rUX8B08L66tnuIjFZ',\n",
       "    '_score': None,\n",
       "    '_source': {'Release Year': 1918,\n",
       "     'Title': 'Tarzan of the Apes',\n",
       "     'Origin/Ethnicity': 'American',\n",
       "     'Director': 'Scott Sidney',\n",
       "     'Cast': 'Elmo Lincoln and Enid Markey',\n",
       "     'Genre': 'adventure',\n",
       "     'Wiki Page': 'https://en.wikipedia.org/wiki/Tarzan_of_the_Apes_(film)',\n",
       "     'Plot': 'John and Alice Clayton, Lord and Lady Greystoke (True Boardman and Kathleen Kirkham), are passengers on the Fuwalda, a ship bound for Africa. When the vessel is taken over by mutineers the sailor Binns (George B. French) saves them from being murdered, but they are marooned on the tropical coast. After their deaths their infant son is adopted by Kala, an ape, who raises him as her own. The young Tarzan (Gordon Griffith) grows to maturity among the apes, becoming their king. Binns, returning to find the Claytons after ten years’ captivity among the Arabs, discovers the ape man and travels to England to report his survival to his family. An expedition led by scientist Professor Porter (Thomas Jefferson) is launched to investigate. Meanwhile, Kala has been killed by a native, who is killed in turn by the now-adult Tarzan (Elmo Lincoln). The villagers kidnap Porter’s daughter Jane (Enid Markey); Tarzan rescues and romances her, and she comes to accept his love.'},\n",
       "    'sort': ['adventure']},\n",
       "   {'_index': 'salir3',\n",
       "    '_type': '_doc',\n",
       "    '_id': 'HI7rUX8B08L66tnuIjFZ',\n",
       "    '_score': None,\n",
       "    '_source': {'Release Year': 1918,\n",
       "     'Title': 'Treasure Island',\n",
       "     'Origin/Ethnicity': 'American',\n",
       "     'Director': 'Sidney Franklin Chester Franklin',\n",
       "     'Cast': 'Francis Carpenter, Virginia Lee Corbin',\n",
       "     'Genre': 'adventure',\n",
       "     'Wiki Page': 'https://en.wikipedia.org/wiki/Treasure_Island_(1918_film)',\n",
       "     'Plot': \"As described in a film magazine,[3] Jim Hawkins (Carpenter) and his mother operate the Admiral Ben Bow Inn, and when they are threatened by an attack by pirates they go to the home of their friend, the squire, for the night. Mrs. Hawkins (Washington) hands the squire a package she found in a chest that was owned by Billy Bones, one of her boarders who had died. The squire discovers a map showing the location of treasure buried by someone named Flint. Jim, overhearing the squire's plans to recover the treasure, goes to sleep and dreams that he, Louise (Corbin), and a ship's crew have set out to find the gold. Long John Silver (Radcliffe), their first mate, is a crook and with some of the men plan to rob Jim and Louise of the treasure. After a fight on the island and the killing off of Long John Silver's men, Long John Silver joins Jim and his gang and through Ben Gunn (Sargent) they find the treasure. Just as Jim is about to distribute it, he wakes up.\"},\n",
       "    'sort': ['adventure']},\n",
       "   {'_index': 'salir3',\n",
       "    '_type': '_doc',\n",
       "    '_id': 'QY7rUX8B08L66tnuIjFZ',\n",
       "    '_score': None,\n",
       "    '_source': {'Release Year': 1919,\n",
       "     'Title': 'Male and Female',\n",
       "     'Origin/Ethnicity': 'American',\n",
       "     'Director': 'Cecil B. DeMille',\n",
       "     'Cast': 'Gloria Swanson, Thomas Meighan',\n",
       "     'Genre': 'adventure',\n",
       "     'Wiki Page': 'https://en.wikipedia.org/wiki/Male_and_Female',\n",
       "     'Plot': \"The film centers on the relationship between Lady Mary Loam (Swanson), a British aristocrat, and her butler, Crichton (Meighan). Crichton fancies a romance with Mary, but she disdains him because of his lower social class. When the two and some others are shipwrecked on a deserted island, they are left to fend for themselves in a state of nature.\\r\\nThe aristocrats' abilities to survive are far worse than those of Crichton, and a role reversal ensues, with the butler becoming a king among the stranded group. Crichton and Mary are about to wed on the island when the group is rescued. Upon returning to Britain, Crichton chooses not to marry Mary; instead, he asks a maid, Tweeny (who was attracted to Crichton throughout the film), to marry him, and the two move to the United States.\"},\n",
       "    'sort': ['adventure']},\n",
       "   {'_index': 'salir3',\n",
       "    '_type': '_doc',\n",
       "    '_id': 'UI7rUX8B08L66tnuIjFZ',\n",
       "    '_score': None,\n",
       "    '_source': {'Release Year': 1919,\n",
       "     'Title': 'Soldiers of Fortune',\n",
       "     'Origin/Ethnicity': 'American',\n",
       "     'Director': 'Allan Dwan',\n",
       "     'Cast': 'Wallace Beery, Ogden Crane',\n",
       "     'Genre': 'adventure',\n",
       "     'Wiki Page': 'https://en.wikipedia.org/wiki/Soldiers_of_Fortune_(1919_film)',\n",
       "     'Plot': \"Robert Clay, a noble America hero of humble means trying to do his best to help the war effort in the fictional capital Olancho in a small South American republic, but he meets a rich lady and they fall in love during the revolution. Robert Clay is the engineer and general manager of the Valencia Mining Company in Olancho. There are two sisters that come into Robert Clay's life. Both are the daughters of Mr. Langham, the president of the Mining company. The older sister, Alice, is a New York City society girl. Her sister Hope is enthusiastic, generous and sweet. Robert Clay meets Alice just before he sails for South America. He shares his admiration for her. Later, when he learns the family are going to Olancho also, he is very happy. But after getting to know Alice better he is sad. During her visit to Olancho a revolution starts, in this time she shows courage and to be a lady of charter. This attracts Clay to her, he ask her to marry him.[3][4][5]\"},\n",
       "    'sort': ['adventure']},\n",
       "   {'_index': 'salir3',\n",
       "    '_type': '_doc',\n",
       "    '_id': 'b47rUX8B08L66tnuIjFZ',\n",
       "    '_score': None,\n",
       "    '_source': {'Release Year': 1920,\n",
       "     'Title': 'Huckleberry Finn',\n",
       "     'Origin/Ethnicity': 'American',\n",
       "     'Director': 'William Desmond Taylor',\n",
       "     'Cast': 'Lewis Sargent, Wallace Beery',\n",
       "     'Genre': 'adventure',\n",
       "     'Wiki Page': 'https://en.wikipedia.org/wiki/Huckleberry_Finn_(1920_film)',\n",
       "     'Plot': 'As described in a film publication,[2] Huckleberry Finn (Sargent) has been adopted by the Widow Douglas (K. Griffith) who plans to \"civilize\" him. With Tom Sawyer (G. Griffith) he forms a robber gang, and in a cave has the local boys take an oath to stick together. In his bedroom he runs into his no-account father (Lanning) who steals Huck\\'s small change and later kidnaps Huck, taking him in a small boat down the river, while Tom and the gang wait for their leader to appear. Huck later escapes from a cabin where his father mistreated him, making it look as if he drowned while getting away in a canoe.\\r\\nRumors of Huck\\'s death spreads. Jim (Reed), the widow\\'s slave boy, hears that he is to be sold and runs off, and joins Huck on a raft. Duke (Humphrey) and King (Bates), two broken-down actors fleeing a crowd they had fooled with a mock theatrical performance, join them. At the next town the actors again fool the people with a pretend theatrical performance with Huck acting as the doorkeeper. Further downstream the actors then impersonate the brothers of a deceased man named Wilks in an attempt to obtain the inheritance, but Huck takes the money to keep it from the actors after he is smitten by the daughter, Mary Jane Wilks (Ralston). Huck and Jim leave to escape the wrath of their former companions just as the actual relatives of the dead man show up.\\r\\nAfter peace is made when King and Duke rejoin the group, a shabby trick is performed when King sells Jim to a man named Phelps and then tells Huck that Jim has been lost. Upon learning the truth, Huck sets out to rescue his friend. He discovers that Mrs. Phelps (Moore) is the sister of Tom\\'s Aunt Polly. Huck poses as the nephew Tom, whom Mrs. Phelps has never met. Then the real Tom arrives, who is surprised as he believed that Huck had died. After exchanging signals, Tom poses as his brother Sid and they go through with a plan. In a struggle to get Jim away, Tom is shot in the leg. Jim escapes, and while the two youngsters are congratulating themselves at Tom\\'s sickbed, Aunt Polly arrives and says that Jim had been freed a month earlier. She informs the Phelps of Huck\\'s actual identity and takes him back, cured of his wandering, to the Widow Douglas.'},\n",
       "    'sort': ['adventure']},\n",
       "   {'_index': 'salir3',\n",
       "    '_type': '_doc',\n",
       "    '_id': 'dY7rUX8B08L66tnuIjFZ',\n",
       "    '_score': None,\n",
       "    '_source': {'Release Year': 1920,\n",
       "     'Title': 'The Last of the Mohicans',\n",
       "     'Origin/Ethnicity': 'American',\n",
       "     'Director': 'Clarence Brown, Maurice Tourneur',\n",
       "     'Cast': 'Wallace Beery',\n",
       "     'Genre': 'adventure',\n",
       "     'Wiki Page': 'https://en.wikipedia.org/wiki/The_Last_of_the_Mohicans_(1920_American_film)',\n",
       "     'Plot': 'In 1757, in the midst of the French and Indian War, three French divisions and their Huron Indian allies are advancing on Fort William Henry, a British stronghold south of Lake George in the colony of New York. Chingachgook (Theodore Lorch) sends his son Uncas (Roscoe), the last living warrior of the Mohican tribe, to warn the fort\\'s commander, Colonel Munro (James Gordon), of the imminent danger. Uncas is admired by Munro\\'s daughter Cora (Barbara Bedford), much to the displeasure of her suitor, Captain Randolph (George Hackathorne).\\r\\nMunro dispatches Major Heyward (Henry Woodward) and an Indian runner named Magua (Beery) to escort Cora and her \"capricious\" younger sister Alice (Hall) to the relative safety of Fort Edward, and to deliver an urgent request for reinforcements to its commander, General Webb (Sydney Deane). Magua, who is a Huron sympathizer with ulterior motives, convinces Heyward to take a \"shortcut\" through a forest, then pretends to lose his way. In the forest they encounter Uncas, Chingachgook and the hunter and scout Hawkeye (Harry Lorraine), accompanied by an eccentric preacher named David Gamut (Nelson McDowell). When Heyward asks for directions to Fort Edward, the men become suspicious of Magua who, like all Indians in the area, should have an intimate knowledge of the terrain. Their fears of treachery are confirmed when they discover that Magua has disappeared.\\r\\nUncas and Hawkeye conceal Heyward and the women in a cave, but Magua and his men find the hiding place, and after a fierce firefight the women are captured. Magua offers to spare \"Golden Hair\" (Alice) if Cora will become his squaw; but Uncas, Chingachgook and Hawkeye counterattack and rescue the hostages. Although they leave Magua for dead, he is actually uninjured.\\r\\nAt Fort William Henry the situation is dire. The only thing keeping the besiegers at bay is a formidable gun emplacement on the left rampart. The cowardly Captain Randolph informs Montcalm, the French commander, that the rampart guns are nonfunctional, leaving Munro no choice but to surrender the fort. Though promised safe passage for the women and children, the Hurons, under the influence of French-supplied whiskey, slaughter the civilians and torch the fort.\\r\\nMagua kidnaps the Munro sisters for a second time and flees. Uncas and Hawkeye pursue him, but Magua reaches a neutral Delaware village. The dispute is taken before a Delaware council of three; their judgment is that Cora be released to Uncas, and that Alice remain with Magua. To save her sister, Cora offers to take her place. Uncas vows that Magua will not leave with his true love; but by Delaware law, Magua is protected until sundown.\\r\\nThat night, Cora escapes and is pursued by Magua to the edge of a precipice. She threatens to jump if he approaches, so Magua waits patiently for her to fall asleep. When she does, he grabs her arm. She flings herself off the cliff, but Magua still has hold of her arms. When Uncas appears, the situation is reversed: Cora tries to save herself, but Magua uses his knife to pry her fingers loose, and she falls to her death. In the ensuing fight, Magua stabs Uncas, whose body rolls down the embankment to rest near Cora\\'s. With his final, dying strength, Uncas reaches forth and takes Cora\\'s hand in his. Magua flees when Chingachgook and Hawkeye arrive, but Hawkeye shoots him dead.\\r\\nAt Cora and Uncas\\'s burial ceremony, Chingachgook mourns the passing of his son, the last of the Mohicans.'},\n",
       "    'sort': ['adventure']},\n",
       "   {'_index': 'salir3',\n",
       "    '_type': '_doc',\n",
       "    '_id': 'kI7rUX8B08L66tnuIjFZ',\n",
       "    '_score': None,\n",
       "    '_source': {'Release Year': 1920,\n",
       "     'Title': 'Treasure Island',\n",
       "     'Origin/Ethnicity': 'American',\n",
       "     'Director': 'Maurice Tourneur',\n",
       "     'Cast': 'Lon Chaney, Shirley Mason',\n",
       "     'Genre': 'adventure',\n",
       "     'Wiki Page': 'https://en.wikipedia.org/wiki/Treasure_Island_(1920_film)',\n",
       "     'Plot': \"Young Jim Hawkins is caught up with the pirate Long John Silver in search of the buried treasure of the buccaneer Captain Flint. Young Jim Hawkins helps his widowed mother run the Admiral Benbow Inn on the west coast of England.\\r\\nWhen former pirate Billy Bones is killed at the inn by other pirates seeking the map to the lost treasure of Captain Flint, Jim finds the map and turns it over to his mother's friends, Dr. Livesey and Squire Trelawney, who organize an expedition to recover the treasure. Jim stows away aboard Livesey and Trelawney's ship, which is manned by a crew largely chosen by Long John Silver, a one-legged pirate posing as a cook.\\r\\nSilver's plans for a mutiny are discovered by Jim and reported to Livesey and Trelawney, who manage to hold the pirates at bay until they arrive at the island and take refuge in a shelter with Jim and the loyal crew members. A battle with the pirates results in the map being turned over to Silver and his gang, but the pirates are eventually routed, and Jim and the others find Flint's treasure through the services of Ben Gunn, a pirate who had been stranded on the island.[4]\"},\n",
       "    'sort': ['adventure']},\n",
       "   {'_index': 'salir3',\n",
       "    '_type': '_doc',\n",
       "    '_id': '2o7rUX8B08L66tnuIjFZ',\n",
       "    '_score': None,\n",
       "    '_source': {'Release Year': 1922,\n",
       "     'Title': 'Moran of the Lady Letty',\n",
       "     'Origin/Ethnicity': 'American',\n",
       "     'Director': 'George Melford',\n",
       "     'Cast': 'Dorothy Dalton, Charles Brinley',\n",
       "     'Genre': 'adventure',\n",
       "     'Wiki Page': 'https://en.wikipedia.org/wiki/Moran_of_the_Lady_Letty',\n",
       "     'Plot': 'The opening scenes are set in Scandinavia, where a ship\\'s captain and his daughter, Moran, are introduced. Moran, it is clear, adores her father. She has grown up on and around ships and can handle herself on the water as well as any man.\\r\\nThen scene then shifts to San Francisco, where a young socialite, Ramon Laredo, complains that he is tired of the same tiresome round of parties and dances. He wishes he could get away from it all. While on his way to a yachting party, he meets up with an old sailor. After talking, they repair to a saloon, where Ramon is served a Mickey Finn. After passing out, he is shanghaied aboard a nefarious pirating ship, the \"Heart of China,\" run by Captain Kitchell, a man without principles. Though initially dismissed as a pampered weakling by the crew and captain, Ramon proves his manhood and gradually gains everyone\\'s respect.\\r\\nA Scandinavian ship in distress is spotted off the bow; the pirate crew quickly move in to loot the burning ship. Most of the crew, they discover, is dead, victims of leaking coal gas. Ramon rescues one sailor, whom he carries back to the pirate ship, only to discover that \"he\" is a \"she.\" It is Moran, of course, whose father has perished aboard the burning ship. Efforts to hide her identify are futile; when Captain Kitchell discovers a female is on board, it is clear that the woman\\'s virginity is endangered. Ramon, however, is determined to protect her. Gradually, Ramon and Moran fall in love, though Moran insists at first that she has no interest in romance—she should have been born a boy, she says. After a lively battle on board the ship—crew vs. captain and his henchmen—the ship reaches the port in San Diego.\\r\\nDisembarking, Ramon finds himself at a high-society party attended by vacationing San Franciscans. They are delighted to see him and urge him to rejoin their company. But Ramon makes it clear that his experience of recent months has changed him, has made him a better man. Confidently, happily, he returns to the ship and to Moran\\'s waiting arms.'},\n",
       "    'sort': ['adventure']}]}}"
      ]
     },
     "execution_count": 432,
     "metadata": {},
     "output_type": "execute_result"
    }
   ],
   "source": [
    "es.search(body=query1,index='wikipedia_movies')"
   ]
  },
  {
   "cell_type": "code",
   "execution_count": 433,
   "id": "b66c40d6-f78a-4242-9302-6b422463282b",
   "metadata": {
    "collapsed": true,
    "jupyter": {
     "outputs_hidden": true
    },
    "tags": []
   },
   "outputs": [
    {
     "name": "stderr",
     "output_type": "stream",
     "text": [
      "C:\\Users\\alamo\\AppData\\Local\\Temp/ipykernel_13296/4244573796.py:1: DeprecationWarning: The 'body' parameter is deprecated for the 'search' API and will be removed in a future version. Instead use API parameters directly. See https://github.com/elastic/elasticsearch-py/issues/1698 for more information\n",
      "  es.search(body=query2, index=\"salir3\")\n"
     ]
    },
    {
     "data": {
      "text/plain": [
       "{'took': 4,\n",
       " 'timed_out': False,\n",
       " '_shards': {'total': 1, 'successful': 1, 'skipped': 0, 'failed': 0},\n",
       " 'hits': {'total': {'value': 3, 'relation': 'eq'},\n",
       "  'max_score': 22.865698,\n",
       "  'hits': [{'_index': 'salir3',\n",
       "    '_type': '_doc',\n",
       "    '_id': 'So7rUX8B08L66tnuJTMD',\n",
       "    '_score': 22.865698,\n",
       "    '_source': {'Release Year': 1929,\n",
       "     'Title': 'Happy Days',\n",
       "     'Origin/Ethnicity': 'American',\n",
       "     'Director': 'Benjamin Stoloff',\n",
       "     'Cast': 'Marjorie White, Stuart Erwin, Janet Gaynor',\n",
       "     'Genre': 'musical',\n",
       "     'Wiki Page': 'https://en.wikipedia.org/wiki/Happy_Days_(1929_film)',\n",
       "     'Plot': \"Originally titled New Orleans Frolic, the story centers around Margie (played by Marjorie White), a singer on a showboat who, when she hears that the showboat is in financial trouble, travels to New York City in an effort to persuade all the boat's former stars to perform in a show to rescue it. She is successful and the stars all fly to New Orleans to surprise the showboat's owner, Colonel Billy Blacher, with a grand show, the proceeds of which will go to rescue the showboat.\"}},\n",
       "   {'_index': 'salir3',\n",
       "    '_type': '_doc',\n",
       "    '_id': 'OY7rUX8B08L66tnuIjFZ',\n",
       "    '_score': 19.613188,\n",
       "    '_source': {'Release Year': 1919,\n",
       "     'Title': 'Happy Though Married',\n",
       "     'Origin/Ethnicity': 'American',\n",
       "     'Director': 'Fred Niblo',\n",
       "     'Cast': 'Enid Bennett, Hallam Cooley',\n",
       "     'Genre': 'comedy',\n",
       "     'Wiki Page': 'https://en.wikipedia.org/wiki/Happy_Though_Married',\n",
       "     'Plot': \"As described in a film magazine,[2] Jim Montjoy (MacLean), who is engaged to Millicent Lee (Bennett), gowes with his brother Jim (Cooley) to Mexico to make their fortunes. Jim falls in love with a Mexican girl, Diana Ramon (Vale), and a photograph of her gets into Jim's coat pocket. The brothers own a mining claim that Diana's uncle (French) wants to buy, so Jim stays in Mexico to look after the property while Stanley goes to New York to try to obtain a better price. There he discovers Bob Davis (McCullough) is trying to cut him out, so he marries Millicent without delay. As a joke he buys his wife a book titled How to be Happy Though Married, but it ends up giving her jealous thoughts. She finds the photograph of Diana in Stanley's coat pocket and pretends to go away on a visit, but when she returns to the house she finds her husband escorting the original from the photograph and installing her in one of the bedrooms. Jim, having eloped with his Mexican charmer, is back in town and left to buy new clothes, and Jim then leaves without knowing his wife is in the house. The women meet, and although neither can understand the other's language, they get into an argument. Blond Millicent thinks the handsome brunette is trying to steal her husband, while Diana thinks that her sister-in-law is attempting to rob her of her jewels. All is resolved when the men return.\"}},\n",
       "   {'_index': 'salir3',\n",
       "    '_type': '_doc',\n",
       "    '_id': 'TI7rUX8B08L66tnuIjFZ',\n",
       "    '_score': 19.613188,\n",
       "    '_source': {'Release Year': 1919,\n",
       "     'Title': 'A Romance of Happy Valley',\n",
       "     'Origin/Ethnicity': 'American',\n",
       "     'Director': 'D.W. Griffith',\n",
       "     'Cast': 'Lillian Gish, Robert Harron',\n",
       "     'Genre': 'drama',\n",
       "     'Wiki Page': 'https://en.wikipedia.org/wiki/A_Romance_of_Happy_Valley',\n",
       "     'Plot': \"As described in a film magazine,[3] the senior John L. Logan (Fawcett) and his wife (Bruce) are very religious, and are taken aback when John Jr. (Harron) announces that he plans to leave their Southern farm and go to New York City to get rich. They take him to church and pray until he accepts religion. His sweetheart Jennie Timberlake (Gish) is afraid that he will backslide, which he does when the lure of the city becomes too strong for him. He is gone seven years and returns a rich man, but is not recognized when he returns home, which is now taking in boarders. Meanwhile, his father has fallen on hard times and is trying to get money to pay the farm's mortgage, and plans to murder the stranger staying at his home, not realizing it is his son. In town, there is a bank robbery and the robber is chased to the Logan farm. The mother sees that her son has returned home, and the father's remorse ends only as the family is once more together. It is then revealed that it was the bank robber that had been shot by the father. The faithful Jennie and John Jr. end up together at the end.\"}}]}}"
      ]
     },
     "execution_count": 433,
     "metadata": {},
     "output_type": "execute_result"
    }
   ],
   "source": [
    "es.search(body=query2, index=\"wikipedia_movies\")"
   ]
  },
  {
   "cell_type": "markdown",
   "id": "d602b7df-89ff-43ac-9d79-726aa1dfe0ee",
   "metadata": {},
   "source": [
    "## __References__"
   ]
  },
  {
   "cell_type": "markdown",
   "id": "090d3bd1-57e7-475a-8b4b-64828498f861",
   "metadata": {},
   "source": [
    "<i class=\"fas fa-book\"></i> Elasticsearch guide [8.0](https://www.elastic.co/guide/en/elasticsearch/reference/current/index.html)\n",
    "\n",
    "<i class=\"fas fa-book\"></i>  W. Bruce Croft; Donald Metzler; Trevor Strohman. 2010. Search engines: information retrieval in practice. [Pearson Education.](http://ciir.cs.umass.edu/downloads/SEIRiP.pdf) "
   ]
  }
 ],
 "metadata": {
  "kernelspec": {
   "display_name": "Python 3 (ipykernel)",
   "language": "python",
   "name": "python3"
  },
  "language_info": {
   "codemirror_mode": {
    "name": "ipython",
    "version": 3
   },
   "file_extension": ".py",
   "mimetype": "text/x-python",
   "name": "python",
   "nbconvert_exporter": "python",
   "pygments_lexer": "ipython3",
   "version": "3.8.5"
  }
 },
 "nbformat": 4,
 "nbformat_minor": 5
}
